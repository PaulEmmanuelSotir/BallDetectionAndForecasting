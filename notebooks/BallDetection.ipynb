{
 "cells": [
  {
   "cell_type": "markdown",
   "metadata": {},
   "source": [
    " # Ball detection notebook\n",
    " _by Paul-Emmanuel sotir_"
   ]
  },
  {
   "cell_type": "code",
   "execution_count": 3,
   "metadata": {},
   "outputs": [
    {
     "ename": "ModuleNotFoundError",
     "evalue": "No module named 'hyperopt'",
     "output_type": "error",
     "traceback": [
      "\u001b[0;31m---------------------------------------------------------------------------\u001b[0m",
      "\u001b[0;31mModuleNotFoundError\u001b[0m                       Traceback (most recent call last)",
      "\u001b[0;32m<ipython-input-3-9ee68a1a5d61>\u001b[0m in \u001b[0;36m<module>\u001b[0;34m\u001b[0m\n\u001b[1;32m      4\u001b[0m \u001b[0;32mimport\u001b[0m \u001b[0mnumpy\u001b[0m \u001b[0;32mas\u001b[0m \u001b[0mnp\u001b[0m\u001b[0;34m\u001b[0m\u001b[0;34m\u001b[0m\u001b[0m\n\u001b[1;32m      5\u001b[0m \u001b[0;32mimport\u001b[0m \u001b[0mpandas\u001b[0m \u001b[0;32mas\u001b[0m \u001b[0mpd\u001b[0m\u001b[0;34m\u001b[0m\u001b[0;34m\u001b[0m\u001b[0m\n\u001b[0;32m----> 6\u001b[0;31m \u001b[0;32mimport\u001b[0m \u001b[0mhyperopt\u001b[0m\u001b[0;34m\u001b[0m\u001b[0;34m\u001b[0m\u001b[0m\n\u001b[0m\u001b[1;32m      7\u001b[0m \u001b[0;34m\u001b[0m\u001b[0m\n\u001b[1;32m      8\u001b[0m \u001b[0;32mimport\u001b[0m \u001b[0mtorch\u001b[0m\u001b[0;34m\u001b[0m\u001b[0;34m\u001b[0m\u001b[0m\n",
      "\u001b[0;31mModuleNotFoundError\u001b[0m: No module named 'hyperopt'"
     ]
    }
   ],
   "source": [
    "import os\n",
    "import sys\n",
    "import shutil\n",
    "import numpy as np\n",
    "import pandas as pd\n",
    "\n",
    "import torch\n",
    "import torch.nn as nn\n",
    "import torch.optim as optim\n",
    "import torch.nn.functional as F\n",
    "import torch.backends.cudnn as cudnn\n",
    "from torch.utils.data import DataLoader\n",
    "\n",
    "from importlib import reload\n",
    "\n",
    "if '../src/balldetect' not in sys.path:\n",
    "    sys.path.append('../src/balldetect')\n",
    "import datasets\n",
    "reload(datasets)\n",
    "\n",
    "#CONDA_ENV = 'generalization_training'"
   ]
  },
  {
   "cell_type": "code",
   "execution_count": 2,
   "metadata": {},
   "outputs": [],
   "source": [
    "# Torch configuration\n",
    "use_gpu = torch.cuda.is_available()\n",
    "cudnn.benchmark = use_gpu  # Enable inbuilt CuDNN auto-tuner TODO: measure preformances without this flag\n",
    "cudnn.fastest = use_gpu  # Disable this if memory issues"
   ]
  },
  {
   "cell_type": "code",
   "execution_count": 3,
   "metadata": {
    "scrolled": true
   },
   "outputs": [],
   "source": [
    "dataset = datasets.BallsCFDetection(\"../datasets/mini_balls\")\n",
    "dl = DataLoader(dataset, batch_size=64, shuffle=True, pin_memory=use_gpu)"
   ]
  },
  {
   "cell_type": "code",
   "execution_count": 5,
   "metadata": {
    "scrolled": false
   },
   "outputs": [
    {
     "data": {
      "text/plain": [
       "tensor([[[148., 161., 198.,  ..., 219., 201., 208.],\n",
       "         [161., 157., 149.,  ..., 216., 198., 213.],\n",
       "         [160., 141., 160.,  ..., 222., 192., 205.],\n",
       "         ...,\n",
       "         [153., 153., 153.,  ..., 150., 166., 190.],\n",
       "         [153., 153., 153.,  ..., 150., 150., 158.],\n",
       "         [153., 153., 153.,  ..., 150., 148., 152.]],\n",
       "\n",
       "        [[148., 162., 204.,  ..., 215., 200., 207.],\n",
       "         [158., 158., 154.,  ..., 212., 197., 212.],\n",
       "         [155., 138., 160.,  ..., 218., 191., 204.],\n",
       "         ...,\n",
       "         [153., 153., 153.,  ..., 150., 166., 190.],\n",
       "         [153., 153., 153.,  ..., 150., 150., 158.],\n",
       "         [153., 153., 153.,  ..., 150., 148., 152.]],\n",
       "\n",
       "        [[138., 156., 200.,  ..., 212., 198., 205.],\n",
       "         [149., 152., 150.,  ..., 209., 195., 210.],\n",
       "         [149., 133., 158.,  ..., 215., 189., 202.],\n",
       "         ...,\n",
       "         [153., 153., 153.,  ..., 150., 166., 190.],\n",
       "         [153., 153., 153.,  ..., 150., 150., 158.],\n",
       "         [153., 153., 153.,  ..., 150., 148., 152.]]])"
      ]
     },
     "execution_count": 5,
     "metadata": {},
     "output_type": "execute_result"
    }
   ],
   "source": [
    "from skimage import io\n",
    "img = np.asarray(io.imread(\"../datasets/mini_balls/img_00000.jpg\"))\n",
    "img = img.astype(np.float32)\n",
    "img = np.transpose(img, (2, 0, 1))\n",
    "img = torch.tensor(img, dtype=torch.float32)\n",
    "img"
   ]
  },
  {
   "cell_type": "code",
   "execution_count": 136,
   "metadata": {},
   "outputs": [],
   "source": [
    "bbs = np.array([bb for img, p, bb in dataset])"
   ]
  },
  {
   "cell_type": "code",
   "execution_count": null,
   "metadata": {},
   "outputs": [],
   "source": [
    "(imgs, bbs) = zip(*np.array([(img.tolist(), bb) for img, p, bb in dataset]))"
   ]
  },
  {
   "cell_type": "code",
   "execution_count": 129,
   "metadata": {},
   "outputs": [],
   "source": [
    "bbs = bbs / np.max(bbs, axis=(0, 1))[np.newaxis, np.newaxis, :]\n",
    "imgs = imgs / np.max(imgs, axis=(0, 2, 3))[np.newaxis, :, np.newaxis, np.newaxis]"
   ]
  },
  {
   "cell_type": "code",
   "execution_count": 135,
   "metadata": {},
   "outputs": [
    {
     "data": {
      "text/plain": [
       "array([[0.      , 0.      , 0.      , 0.      ],\n",
       "       [0.      , 0.      , 0.      , 0.      ],\n",
       "       [0.      , 0.      , 0.      , 0.      ],\n",
       "       [0.898876, 0.772727, 0.919192, 0.79798 ],\n",
       "       [0.269663, 0.772727, 0.343434, 0.79798 ],\n",
       "       [0.      , 0.      , 0.      , 0.      ],\n",
       "       [0.11236 , 0.079545, 0.212121, 0.191919],\n",
       "       [0.      , 0.      , 0.      , 0.      ],\n",
       "       [0.      , 0.      , 0.      , 0.      ]], dtype=float32)"
      ]
     },
     "execution_count": 135,
     "metadata": {},
     "output_type": "execute_result"
    }
   ],
   "source": [
    "bbs[0]"
   ]
  },
  {
   "cell_type": "code",
   "execution_count": 137,
   "metadata": {
    "scrolled": true
   },
   "outputs": [
    {
     "data": {
      "text/plain": [
       "array([[[89., 88., 99., 99.]]], dtype=float32)"
      ]
     },
     "execution_count": 137,
     "metadata": {},
     "output_type": "execute_result"
    }
   ],
   "source": [
    "np.max(bbs, axis=(0, 1))[np.newaxis, np.newaxis, :]"
   ]
  },
  {
   "cell_type": "code",
   "execution_count": null,
   "metadata": {},
   "outputs": [],
   "source": [
    "data = ObjectCategoryList.from_df(dataset) \\\n",
    "    .split_by_rand_pct(valid_pct=0.2, seed=123) \\\n",
    "    .label_from()\n",
    "\n",
    "balls_cf_stats = data.batch_stats()\n",
    "dataset =  \n",
    "                  .databunch(bs=64) \\\n",
    "                  .normalize(balls_cf_stats) \\"
   ]
  },
  {
   "cell_type": "code",
   "execution_count": null,
   "metadata": {},
   "outputs": [],
   "source": [
    "def init_model():\n",
    "    \n",
    "def conv_layer():\n",
    "    \n",
    "\n",
    "def build_model():\n",
    "    "
   ]
  },
  {
   "cell_type": "code",
   "execution_count": null,
   "metadata": {},
   "outputs": [],
   "source": []
  }
 ],
 "metadata": {
  "kernelspec": {
   "display_name": "Python 3",
   "language": "python",
   "name": "python3"
  },
  "language_info": {
   "codemirror_mode": {
    "name": "ipython",
    "version": 3
   },
   "file_extension": ".py",
   "mimetype": "text/x-python",
   "name": "python",
   "nbconvert_exporter": "python",
   "pygments_lexer": "ipython3",
   "version": "3.7.6"
  }
 },
 "nbformat": 4,
 "nbformat_minor": 2
}
